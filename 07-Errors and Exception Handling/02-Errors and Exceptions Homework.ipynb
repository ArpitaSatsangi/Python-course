{
 "cells": [
  {
   "cell_type": "markdown",
   "metadata": {},
   "source": [
    "# Problem 1\n",
    "Handle the exception thrown by the code below by using try and except blocks.\n",
    "\n",
    "for i in ['a','b','c']:\n",
    "    print(i**2)\n",
    "    \n",
    "---------------------------------------------------------------------------\n",
    "TypeError                                 Traceback (most recent call last)\n",
    "<ipython-input-1-c35f41ad7311> in <module>()\n",
    "      1 for i in ['a','b','c']:\n",
    "----> 2     print(i**2)\n",
    "\n",
    "TypeError: unsupported operand type(s) for ** or pow(): 'str' and 'int'"
   ]
  },
  {
   "cell_type": "code",
   "execution_count": 1,
   "metadata": {},
   "outputs": [
    {
     "name": "stdout",
     "output_type": "stream",
     "text": [
      "oops! there is a TypeError\n"
     ]
    }
   ],
   "source": [
    "try:\n",
    "    for i in ['a','b','c']: \n",
    "        print(i**2)\n",
    "except TypeError:\n",
    "    print(\"oops! there is a TypeError\")\n",
    "except :\n",
    "    print(\"oops! there is some other error\")\n"
   ]
  },
  {
   "cell_type": "markdown",
   "metadata": {},
   "source": [
    "# Problem 2\n",
    "Handle the exception thrown by the code below by using try and except blocks. Then use a finally block to print 'All Done.'\n",
    "\n",
    "x = 5\n",
    "y = 0\n",
    "\n",
    "z = x/y\n",
    "\n",
    "---------------------------------------------------------------------------\n",
    "ZeroDivisionError                         Traceback (most recent call last)\n",
    "<ipython-input-2-6f985c4c80dd> in <module>()\n",
    "      2 y = 0\n",
    "      3 \n",
    "----> 4 z = x/y\n",
    "\n",
    "ZeroDivisionError: division by zero"
   ]
  },
  {
   "cell_type": "code",
   "execution_count": 2,
   "metadata": {},
   "outputs": [
    {
     "name": "stdout",
     "output_type": "stream",
     "text": [
      "oops! there is a ZeroDivisionError\n",
      "All Done.\n"
     ]
    }
   ],
   "source": [
    "try:\n",
    "    x = 5 \n",
    "    y = 0\n",
    "\n",
    "    z = x/y\n",
    "    \n",
    "except ZeroDivisionError:\n",
    "    print(\"oops! there is a ZeroDivisionError\")\n",
    "except :\n",
    "    print(\"oops! there is some other error\")\n",
    "    \n",
    "finally:\n",
    "    print(\"All Done.\")"
   ]
  },
  {
   "cell_type": "markdown",
   "metadata": {},
   "source": [
    "# Problem 3\n",
    "Write a function that asks for an integer and prints the square of it. Use a while loop with a try, except, else block to account for incorrect inputs.\n",
    "\n",
    "def ask():\n",
    "    pass\n",
    "ask()\n",
    "Input an integer: null\n",
    "An error occurred! Please try again!\n",
    "Input an integer: 2\n",
    "Thank you, your number squared is:  4"
   ]
  },
  {
   "cell_type": "code",
   "execution_count": 3,
   "metadata": {},
   "outputs": [],
   "source": [
    "def ask():\n",
    "    \n",
    "    while True:\n",
    "    \n",
    "        try:\n",
    "            n = int(input(\"Input an integer: \"))\n",
    "            \n",
    "        except:\n",
    "            print(\"An error occurred! Please try again!\")\n",
    "            continue\n",
    "        else:\n",
    "            break\n",
    "            \n",
    "    print(f\"Thank you, your number squared is: {n**2}\")"
   ]
  },
  {
   "cell_type": "code",
   "execution_count": 4,
   "metadata": {},
   "outputs": [
    {
     "name": "stdout",
     "output_type": "stream",
     "text": [
      "Input an integer: null\n",
      "An error occurred! Please try again!\n",
      "Input an integer: two\n",
      "An error occurred! Please try again!\n",
      "Input an integer: 2\n",
      "Thank you, your number squared is: 4\n"
     ]
    }
   ],
   "source": [
    "ask()"
   ]
  },
  {
   "cell_type": "code",
   "execution_count": null,
   "metadata": {},
   "outputs": [],
   "source": []
  }
 ],
 "metadata": {
  "kernelspec": {
   "display_name": "Python 3",
   "language": "python",
   "name": "python3"
  },
  "language_info": {
   "codemirror_mode": {
    "name": "ipython",
    "version": 3
   },
   "file_extension": ".py",
   "mimetype": "text/x-python",
   "name": "python",
   "nbconvert_exporter": "python",
   "pygments_lexer": "ipython3",
   "version": "3.8.3"
  }
 },
 "nbformat": 4,
 "nbformat_minor": 4
}
