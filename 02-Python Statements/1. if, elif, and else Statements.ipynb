{
 "cells": [
  {
   "cell_type": "code",
   "execution_count": 4,
   "metadata": {},
   "outputs": [
    {
     "name": "stdout",
     "output_type": "stream",
     "text": [
      "it is false\n"
     ]
    }
   ],
   "source": [
    "if 3 < 1:\n",
    "    print(\"it is true\")\n",
    "else:\n",
    "    print(\"it is false\")"
   ]
  },
  {
   "cell_type": "code",
   "execution_count": 5,
   "metadata": {},
   "outputs": [
    {
     "name": "stdout",
     "output_type": "stream",
     "text": [
      "i want food!!\n"
     ]
    }
   ],
   "source": [
    "hungry = True\n",
    "if hungry:\n",
    "    print(\"i want food!!\")\n",
    "else:\n",
    "    print(\"i am not hungry..\")"
   ]
  },
  {
   "cell_type": "code",
   "execution_count": 7,
   "metadata": {},
   "outputs": [
    {
     "name": "stdout",
     "output_type": "stream",
     "text": [
      "rivers are soo cool\n"
     ]
    }
   ],
   "source": [
    "loc = 'river bank'\n",
    "\n",
    "if loc == 'auto shop':\n",
    "    print(\"cars are so cool\")\n",
    "elif loc == 'river bank':\n",
    "    print(\"rivers are soo cool\")\n",
    "else:\n",
    "    print(\"sorry!! i do not know much\")"
   ]
  },
  {
   "cell_type": "code",
   "execution_count": 11,
   "metadata": {},
   "outputs": [
    {
     "name": "stdout",
     "output_type": "stream",
     "text": [
      "you baked me cookies :)\n"
     ]
    }
   ],
   "source": [
    "#from lily's perceptic\n",
    "\n",
    "name = 'atlas'\n",
    "\n",
    "if name == 'ryal':\n",
    "    print(\"you pushed me :(\")\n",
    "elif name == 'atlas':\n",
    "    print(\"you baked me cookies :)\")\n",
    "else:\n",
    "    print(\"wait, who are you??\")"
   ]
  },
  {
   "cell_type": "code",
   "execution_count": null,
   "metadata": {},
   "outputs": [],
   "source": []
  }
 ],
 "metadata": {
  "kernelspec": {
   "display_name": "Python 3",
   "language": "python",
   "name": "python3"
  },
  "language_info": {
   "codemirror_mode": {
    "name": "ipython",
    "version": 3
   },
   "file_extension": ".py",
   "mimetype": "text/x-python",
   "name": "python",
   "nbconvert_exporter": "python",
   "pygments_lexer": "ipython3",
   "version": "3.8.3"
  }
 },
 "nbformat": 4,
 "nbformat_minor": 4
}
