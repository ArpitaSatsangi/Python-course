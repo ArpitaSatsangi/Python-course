{
 "cells": [
  {
   "cell_type": "markdown",
   "metadata": {},
   "source": [
    "# Opening and Reading Files"
   ]
  },
  {
   "cell_type": "code",
   "execution_count": 1,
   "metadata": {},
   "outputs": [
    {
     "data": {
      "text/plain": [
       "'C:\\\\Users\\\\HP'"
      ]
     },
     "execution_count": 1,
     "metadata": {},
     "output_type": "execute_result"
    }
   ],
   "source": [
    "pwd"
   ]
  },
  {
   "cell_type": "code",
   "execution_count": 2,
   "metadata": {},
   "outputs": [],
   "source": [
    "f = open('practice.txt', 'w+')\n",
    "f.write(\"test string\")\n",
    "f.close()"
   ]
  },
  {
   "cell_type": "code",
   "execution_count": 3,
   "metadata": {},
   "outputs": [],
   "source": [
    "import os"
   ]
  },
  {
   "cell_type": "code",
   "execution_count": 4,
   "metadata": {},
   "outputs": [
    {
     "data": {
      "text/plain": [
       "'C:\\\\Users\\\\HP'"
      ]
     },
     "execution_count": 4,
     "metadata": {},
     "output_type": "execute_result"
    }
   ],
   "source": [
    "os.getcwd()"
   ]
  },
  {
   "cell_type": "code",
   "execution_count": 5,
   "metadata": {},
   "outputs": [
    {
     "data": {
      "text/plain": [
       "['.android',\n",
       " '.bash_history',\n",
       " '.cache',\n",
       " '.conda',\n",
       " '.condarc',\n",
       " '.config',\n",
       " '.designer',\n",
       " '.gitconfig',\n",
       " '.idlerc',\n",
       " '.ipynb_checkpoints',\n",
       " '.ipython',\n",
       " '.jssc',\n",
       " '.jupyter',\n",
       " '.keras',\n",
       " '.m2',\n",
       " '.matplotlib',\n",
       " '.MCTranscodingSDK',\n",
       " '.ms-ad',\n",
       " '.nbi',\n",
       " '.node-red',\n",
       " '.node_repl_history',\n",
       " '.octave_hist',\n",
       " '.pylint.d',\n",
       " '.python_history',\n",
       " '.ssh',\n",
       " '.tooling',\n",
       " '.viminfo',\n",
       " '.vscode',\n",
       " '00-Milestone-2-Warmup-Project.ipynb',\n",
       " '00-Warm-Up-Project-Exercises.ipynb',\n",
       " '01-Iterators and Generators.ipynb',\n",
       " '01. intro.ipynb',\n",
       " '01. Python Collections Module.ipynb',\n",
       " '02-Iterators and Generators Homework.ipynb',\n",
       " '02. decorator.ipynb',\n",
       " '08. Card War Game.ipynb',\n",
       " 'amol',\n",
       " 'anaconda3',\n",
       " 'AppData',\n",
       " 'Application Data',\n",
       " 'C++',\n",
       " 'Contacts',\n",
       " 'Cookies',\n",
       " 'Desktop',\n",
       " 'Documents',\n",
       " 'Downloads',\n",
       " 'Favorites',\n",
       " 'HackerRank',\n",
       " 'IdeaProjects',\n",
       " 'IntelGraphicsProfiles',\n",
       " 'Links',\n",
       " 'Local Settings',\n",
       " 'mohit',\n",
       " 'Music',\n",
       " 'My Documents',\n",
       " 'NetHood',\n",
       " 'node_modules',\n",
       " 'ntuser.dat',\n",
       " 'ntuser.dat.LOG1',\n",
       " 'ntuser.dat.LOG2',\n",
       " 'NTUSER.DAT{016888bd-6c6f-11de-8d1d-001e0bcde3ec}.TM.blf',\n",
       " 'NTUSER.DAT{016888bd-6c6f-11de-8d1d-001e0bcde3ec}.TMContainer00000000000000000001.regtrans-ms',\n",
       " 'NTUSER.DAT{016888bd-6c6f-11de-8d1d-001e0bcde3ec}.TMContainer00000000000000000002.regtrans-ms',\n",
       " 'ntuser.dat{2376d45a-e2a8-11e9-9157-c8f7335e3e9a}.TM.blf',\n",
       " 'ntuser.dat{2376d45a-e2a8-11e9-9157-c8f7335e3e9a}.TMContainer00000000000000000001.regtrans-ms',\n",
       " 'ntuser.dat{2376d45a-e2a8-11e9-9157-c8f7335e3e9a}.TMContainer00000000000000000002.regtrans-ms',\n",
       " 'ntuser.ini',\n",
       " 'package-lock.json',\n",
       " 'Pic',\n",
       " 'Pictures',\n",
       " 'practice.txt',\n",
       " 'PrintHood',\n",
       " 'Recent',\n",
       " 'Saved Games',\n",
       " 'Searches',\n",
       " 'SendTo',\n",
       " 'Start Menu',\n",
       " 'Templates',\n",
       " 'Untitled.ipynb',\n",
       " 'Untitled1.ipynb',\n",
       " 'Videos']"
      ]
     },
     "execution_count": 5,
     "metadata": {},
     "output_type": "execute_result"
    }
   ],
   "source": [
    "os.listdir()"
   ]
  },
  {
   "cell_type": "code",
   "execution_count": 8,
   "metadata": {},
   "outputs": [
    {
     "data": {
      "text/plain": [
       "['All Users', 'Default', 'Default User', 'desktop.ini', 'HP', 'Public']"
      ]
     },
     "execution_count": 8,
     "metadata": {},
     "output_type": "execute_result"
    }
   ],
   "source": [
    "os.listdir('C:\\\\Users')"
   ]
  },
  {
   "cell_type": "markdown",
   "metadata": {},
   "source": [
    "# Moving Files"
   ]
  },
  {
   "cell_type": "code",
   "execution_count": 9,
   "metadata": {},
   "outputs": [],
   "source": [
    "import shutil"
   ]
  },
  {
   "cell_type": "code",
   "execution_count": 10,
   "metadata": {},
   "outputs": [
    {
     "data": {
      "text/plain": [
       "'C:\\\\Users\\\\HP\\\\Music\\\\practice.txt'"
      ]
     },
     "execution_count": 10,
     "metadata": {},
     "output_type": "execute_result"
    }
   ],
   "source": [
    "shutil.move('practice.txt', 'C:\\\\Users\\\\HP\\\\Music')"
   ]
  },
  {
   "cell_type": "code",
   "execution_count": 11,
   "metadata": {},
   "outputs": [
    {
     "data": {
      "text/plain": [
       "['desktop.ini', 'practice.txt']"
      ]
     },
     "execution_count": 11,
     "metadata": {},
     "output_type": "execute_result"
    }
   ],
   "source": [
    "os.listdir('C:\\\\Users\\\\HP\\\\Music')"
   ]
  },
  {
   "cell_type": "markdown",
   "metadata": {},
   "source": [
    "# Deleting Files"
   ]
  },
  {
   "cell_type": "code",
   "execution_count": 12,
   "metadata": {},
   "outputs": [],
   "source": [
    "import send2trash"
   ]
  },
  {
   "cell_type": "code",
   "execution_count": 16,
   "metadata": {},
   "outputs": [
    {
     "data": {
      "text/plain": [
       "'C:\\\\Users\\\\HP\\\\practice.txt'"
      ]
     },
     "execution_count": 16,
     "metadata": {},
     "output_type": "execute_result"
    }
   ],
   "source": [
    "shutil.move('C:\\\\Users\\\\HP\\\\Music\\\\practice.txt', 'C:\\\\Users\\\\HP')"
   ]
  },
  {
   "cell_type": "code",
   "execution_count": 17,
   "metadata": {},
   "outputs": [
    {
     "data": {
      "text/plain": [
       "['.android',\n",
       " '.bash_history',\n",
       " '.cache',\n",
       " '.conda',\n",
       " '.condarc',\n",
       " '.config',\n",
       " '.designer',\n",
       " '.gitconfig',\n",
       " '.idlerc',\n",
       " '.ipynb_checkpoints',\n",
       " '.ipython',\n",
       " '.jssc',\n",
       " '.jupyter',\n",
       " '.keras',\n",
       " '.m2',\n",
       " '.matplotlib',\n",
       " '.MCTranscodingSDK',\n",
       " '.ms-ad',\n",
       " '.nbi',\n",
       " '.node-red',\n",
       " '.node_repl_history',\n",
       " '.octave_hist',\n",
       " '.pylint.d',\n",
       " '.python_history',\n",
       " '.ssh',\n",
       " '.tooling',\n",
       " '.viminfo',\n",
       " '.vscode',\n",
       " '00-Milestone-2-Warmup-Project.ipynb',\n",
       " '00-Warm-Up-Project-Exercises.ipynb',\n",
       " '01-Iterators and Generators.ipynb',\n",
       " '01. intro.ipynb',\n",
       " '01. Python Collections Module.ipynb',\n",
       " '02-Iterators and Generators Homework.ipynb',\n",
       " '02. decorator.ipynb',\n",
       " '08. Card War Game.ipynb',\n",
       " 'amol',\n",
       " 'anaconda3',\n",
       " 'AppData',\n",
       " 'Application Data',\n",
       " 'C++',\n",
       " 'Contacts',\n",
       " 'Cookies',\n",
       " 'Desktop',\n",
       " 'Documents',\n",
       " 'Downloads',\n",
       " 'Favorites',\n",
       " 'HackerRank',\n",
       " 'IdeaProjects',\n",
       " 'IntelGraphicsProfiles',\n",
       " 'Links',\n",
       " 'Local Settings',\n",
       " 'mohit',\n",
       " 'Music',\n",
       " 'My Documents',\n",
       " 'NetHood',\n",
       " 'node_modules',\n",
       " 'ntuser.dat',\n",
       " 'ntuser.dat.LOG1',\n",
       " 'ntuser.dat.LOG2',\n",
       " 'NTUSER.DAT{016888bd-6c6f-11de-8d1d-001e0bcde3ec}.TM.blf',\n",
       " 'NTUSER.DAT{016888bd-6c6f-11de-8d1d-001e0bcde3ec}.TMContainer00000000000000000001.regtrans-ms',\n",
       " 'NTUSER.DAT{016888bd-6c6f-11de-8d1d-001e0bcde3ec}.TMContainer00000000000000000002.regtrans-ms',\n",
       " 'ntuser.dat{2376d45a-e2a8-11e9-9157-c8f7335e3e9a}.TM.blf',\n",
       " 'ntuser.dat{2376d45a-e2a8-11e9-9157-c8f7335e3e9a}.TMContainer00000000000000000001.regtrans-ms',\n",
       " 'ntuser.dat{2376d45a-e2a8-11e9-9157-c8f7335e3e9a}.TMContainer00000000000000000002.regtrans-ms',\n",
       " 'ntuser.ini',\n",
       " 'package-lock.json',\n",
       " 'Pic',\n",
       " 'Pictures',\n",
       " 'practice.txt',\n",
       " 'PrintHood',\n",
       " 'Recent',\n",
       " 'Saved Games',\n",
       " 'Searches',\n",
       " 'SendTo',\n",
       " 'Start Menu',\n",
       " 'Templates',\n",
       " 'Untitled.ipynb',\n",
       " 'Untitled1.ipynb',\n",
       " 'Videos']"
      ]
     },
     "execution_count": 17,
     "metadata": {},
     "output_type": "execute_result"
    }
   ],
   "source": [
    "os.listdir()"
   ]
  },
  {
   "cell_type": "code",
   "execution_count": 18,
   "metadata": {},
   "outputs": [],
   "source": [
    "send2trash.send2trash('practice.txt')"
   ]
  },
  {
   "cell_type": "code",
   "execution_count": 19,
   "metadata": {},
   "outputs": [
    {
     "data": {
      "text/plain": [
       "['.android',\n",
       " '.bash_history',\n",
       " '.cache',\n",
       " '.conda',\n",
       " '.condarc',\n",
       " '.config',\n",
       " '.designer',\n",
       " '.gitconfig',\n",
       " '.idlerc',\n",
       " '.ipynb_checkpoints',\n",
       " '.ipython',\n",
       " '.jssc',\n",
       " '.jupyter',\n",
       " '.keras',\n",
       " '.m2',\n",
       " '.matplotlib',\n",
       " '.MCTranscodingSDK',\n",
       " '.ms-ad',\n",
       " '.nbi',\n",
       " '.node-red',\n",
       " '.node_repl_history',\n",
       " '.octave_hist',\n",
       " '.pylint.d',\n",
       " '.python_history',\n",
       " '.ssh',\n",
       " '.tooling',\n",
       " '.viminfo',\n",
       " '.vscode',\n",
       " '00-Milestone-2-Warmup-Project.ipynb',\n",
       " '00-Warm-Up-Project-Exercises.ipynb',\n",
       " '01-Iterators and Generators.ipynb',\n",
       " '01. intro.ipynb',\n",
       " '01. Python Collections Module.ipynb',\n",
       " '02-Iterators and Generators Homework.ipynb',\n",
       " '02. decorator.ipynb',\n",
       " '08. Card War Game.ipynb',\n",
       " 'amol',\n",
       " 'anaconda3',\n",
       " 'AppData',\n",
       " 'Application Data',\n",
       " 'C++',\n",
       " 'Contacts',\n",
       " 'Cookies',\n",
       " 'Desktop',\n",
       " 'Documents',\n",
       " 'Downloads',\n",
       " 'Favorites',\n",
       " 'HackerRank',\n",
       " 'IdeaProjects',\n",
       " 'IntelGraphicsProfiles',\n",
       " 'Links',\n",
       " 'Local Settings',\n",
       " 'mohit',\n",
       " 'Music',\n",
       " 'My Documents',\n",
       " 'NetHood',\n",
       " 'node_modules',\n",
       " 'ntuser.dat',\n",
       " 'ntuser.dat.LOG1',\n",
       " 'ntuser.dat.LOG2',\n",
       " 'NTUSER.DAT{016888bd-6c6f-11de-8d1d-001e0bcde3ec}.TM.blf',\n",
       " 'NTUSER.DAT{016888bd-6c6f-11de-8d1d-001e0bcde3ec}.TMContainer00000000000000000001.regtrans-ms',\n",
       " 'NTUSER.DAT{016888bd-6c6f-11de-8d1d-001e0bcde3ec}.TMContainer00000000000000000002.regtrans-ms',\n",
       " 'ntuser.dat{2376d45a-e2a8-11e9-9157-c8f7335e3e9a}.TM.blf',\n",
       " 'ntuser.dat{2376d45a-e2a8-11e9-9157-c8f7335e3e9a}.TMContainer00000000000000000001.regtrans-ms',\n",
       " 'ntuser.dat{2376d45a-e2a8-11e9-9157-c8f7335e3e9a}.TMContainer00000000000000000002.regtrans-ms',\n",
       " 'ntuser.ini',\n",
       " 'package-lock.json',\n",
       " 'Pic',\n",
       " 'Pictures',\n",
       " 'PrintHood',\n",
       " 'Recent',\n",
       " 'Saved Games',\n",
       " 'Searches',\n",
       " 'SendTo',\n",
       " 'Start Menu',\n",
       " 'Templates',\n",
       " 'Untitled.ipynb',\n",
       " 'Untitled1.ipynb',\n",
       " 'Videos']"
      ]
     },
     "execution_count": 19,
     "metadata": {},
     "output_type": "execute_result"
    }
   ],
   "source": [
    "os.listdir()"
   ]
  },
  {
   "cell_type": "markdown",
   "metadata": {},
   "source": [
    "# Walking through a directory"
   ]
  },
  {
   "cell_type": "code",
   "execution_count": 20,
   "metadata": {},
   "outputs": [
    {
     "name": "stdout",
     "output_type": "stream",
     "text": [
      "currently looking at C:\\Users\\HP\\example\n",
      "\n",
      "\n",
      "the subfolders are: \n",
      "\t sub folders: one\n",
      "\t sub folders: two\n",
      "\n",
      "\n",
      "the files are: \n",
      "\t file: three.txt\n",
      "\n",
      "\n",
      "currently looking at C:\\Users\\HP\\example\\one\n",
      "\n",
      "\n",
      "the subfolders are: \n",
      "\t sub folders: four\n",
      "\n",
      "\n",
      "the files are: \n",
      "\t file: five.txt\n",
      "\n",
      "\n",
      "currently looking at C:\\Users\\HP\\example\\one\\four\n",
      "\n",
      "\n",
      "the subfolders are: \n",
      "\n",
      "\n",
      "the files are: \n",
      "\t file: six.txt\n",
      "\n",
      "\n",
      "currently looking at C:\\Users\\HP\\example\\two\n",
      "\n",
      "\n",
      "the subfolders are: \n",
      "\n",
      "\n",
      "the files are: \n",
      "\n",
      "\n"
     ]
    }
   ],
   "source": [
    "path_file = 'C:\\\\Users\\\\HP\\\\example'\n",
    "\n",
    "for folder, sub_folder, files in os.walk(path_file):\n",
    "    \n",
    "    print(f\"currently looking at {folder}\")\n",
    "    print(\"\\n\")\n",
    "    \n",
    "    print(\"the subfolders are: \")\n",
    "    for sub_fold in sub_folder:\n",
    "        print(f\"\\t sub folders: {sub_fold}\")        \n",
    "        \n",
    "    print(\"\\n\")\n",
    "    print(\"the files are: \")\n",
    "    for f in files:\n",
    "        print(f\"\\t file: {f}\")   \n",
    "        \n",
    "    print(\"\\n\")\n",
    "        \n",
    "    "
   ]
  },
  {
   "cell_type": "code",
   "execution_count": null,
   "metadata": {},
   "outputs": [],
   "source": []
  }
 ],
 "metadata": {
  "kernelspec": {
   "display_name": "Python 3",
   "language": "python",
   "name": "python3"
  },
  "language_info": {
   "codemirror_mode": {
    "name": "ipython",
    "version": 3
   },
   "file_extension": ".py",
   "mimetype": "text/x-python",
   "name": "python",
   "nbconvert_exporter": "python",
   "pygments_lexer": "ipython3",
   "version": "3.8.3"
  }
 },
 "nbformat": 4,
 "nbformat_minor": 4
}
